{
 "cells": [
  {
   "cell_type": "code",
   "execution_count": 1,
   "id": "96be010c-5db7-41bb-9e9f-ce9231c60419",
   "metadata": {},
   "outputs": [],
   "source": [
    "data_file_location = \"walden_clean.txt\""
   ]
  },
  {
   "cell_type": "code",
   "execution_count": 2,
   "id": "df692be3-46de-43e1-b90f-efdc9d1c3455",
   "metadata": {},
   "outputs": [
    {
     "data": {
      "text/plain": [
       "[' the project gutenberg ebook of walden and on the duty of civil disobedience by henry david thoreau this ebook is for the use of anyone anywhere at no cost and with almost no restrictions whatsoever.\\n',\n",
       " 'you may copy it give it away or re-use it under the terms of the project gutenberg license included with this ebook or online at www.\\n',\n",
       " 'gutenberg.\\n',\n",
       " 'org  title walden and on the duty of civil disobedience author henry david thoreau release date january 1995 [ebook #205] last updated october 20 2018 language english character set encoding utf-8 *** start of this project gutenberg ebook walden ***   produced by judith boss and david widger   walden   and  on the duty of civil disobedience  by henry david thoreau  cover  contents   walden  economy  where i lived and what i lived for  reading  sounds  solitude  visitors  the bean-field  the village  the ponds  baker farm  higher laws  brute neighbors  house-warming  former inhabitants and winter visitors  winter animals  the pond in winter  spring  conclusion  on the duty of civil disobedience  walden economy when i wrote the following pages or rather the bulk of them i lived alone in the woods a mile from any neighbor in a house which i had built myself on the shore of walden pond in concord massachusetts and earned my living by the labor of my hands only.\\n',\n",
       " 'i lived there two years and two months.\\n',\n",
       " 'at present i am a sojourner in civilized life again.\\n',\n",
       " 'i should not obtrude my affairs so much on the notice of my readers if very particular inquiries had not been made by my townsmen concerning my mode of life which some would call impertinent though they do not appear to me at all impertinent but considering the circumstances very natural and pertinent.\\n',\n",
       " 'some have asked what i got to eat if i did not feel lonesome if i was not afraid and the like.\\n',\n",
       " 'others have been curious to learn what portion of my income i devoted to charitable purposes and some who have large families how many poor children i maintained.\\n',\n",
       " 'i will therefore ask those of my readers who feel no particular interest in me to pardon me if i undertake to answer some of these questions in this book.\\n']"
      ]
     },
     "execution_count": 2,
     "metadata": {},
     "output_type": "execute_result"
    }
   ],
   "source": [
    "[line for line in open(data_file_location, mode='r', encoding='utf-8-sig')][:10]"
   ]
  },
  {
   "cell_type": "markdown",
   "id": "d5671b2a-e93c-4200-846b-0a77f553af83",
   "metadata": {},
   "source": [
    "### 2. For each sentence, create pairs of consecutive words"
   ]
  },
  {
   "cell_type": "code",
   "execution_count": 3,
   "id": "2dd4eba5",
   "metadata": {},
   "outputs": [
    {
     "name": "stdout",
     "output_type": "stream",
     "text": [
      "[('the', 'project'), ('project', 'gutenberg'), ('gutenberg', 'ebook'), ('ebook', 'of'), ('of', 'walden'), ('walden', 'and'), ('and', 'on'), ('on', 'the'), ('the', 'duty'), ('duty', 'of')]\n"
     ]
    }
   ],
   "source": [
    "with open(data_file_location, mode='r', encoding='utf-8-sig') as file:\n",
    "    text = file.read()\n",
    "    text = text.replace(\".\", \" PERIOD\")\n",
    "    words = text.split()\n",
    "    pairs = zip(words, words[1:])\n",
    "    print(list(pairs)[:10])"
   ]
  },
  {
   "cell_type": "markdown",
   "id": "dfc85119-f1e3-4c33-8b29-d28792ce0cf3",
   "metadata": {},
   "source": [
    "### 3. Count how often each pair of words occurs in the input text and record it for later retrieval."
   ]
  },
  {
   "cell_type": "code",
   "execution_count": 4,
   "id": "b61dd03b-d328-417e-8203-a64b052ac580",
   "metadata": {},
   "outputs": [],
   "source": [
    "td = dict()\n",
    "for w1,w2 in zip(words, words[1:]):\n",
    "    d2 = td.get(w1, dict())\n",
    "    td[w1] = d2\n",
    "    count = d2.get(w2,0)\n",
    "    td[w1][w2] = count+1"
   ]
  },
  {
   "cell_type": "code",
   "execution_count": 5,
   "id": "2701aabc-be41-4fb9-8ec6-ee7b6498dfa9",
   "metadata": {},
   "outputs": [
    {
     "data": {
      "text/plain": [
       "{'of': 11, 'reaches': 1, 'as': 1, 'a': 1, 'affords': 1}"
      ]
     },
     "execution_count": 5,
     "metadata": {},
     "output_type": "execute_result"
    }
   ],
   "source": [
    "td['mass']"
   ]
  },
  {
   "cell_type": "code",
   "execution_count": 6,
   "id": "5aaedcf2-92cf-437a-b1cf-28a316de9c23",
   "metadata": {},
   "outputs": [],
   "source": [
    "#from collections import defaultdict\n",
    "#td = defaultdict(dict)\n",
    "#for w1,w2 in zip(words, words[1:]):\n",
    "#    d2 = td[w1]\n",
    "#    td[w1] = d2\n",
    "#    count = d2.get(w2,0)\n",
    "#    td[w1][w2] = count+1"
   ]
  },
  {
   "cell_type": "markdown",
   "id": "c2e5ed4d-4445-469b-aa48-a5f7e3b72cea",
   "metadata": {},
   "source": [
    "### 4. Normalize the counts and turn them into probabilities."
   ]
  },
  {
   "cell_type": "code",
   "execution_count": 7,
   "id": "7230c828-25b2-48a1-b6a9-0b78660539ba",
   "metadata": {},
   "outputs": [],
   "source": [
    "for w1,d in td.items():\n",
    "    v = d.values()\n",
    "    tot = sum(v)\n",
    "    for w2, count in d.items():\n",
    "        d[w2] = count/tot "
   ]
  },
  {
   "cell_type": "code",
   "execution_count": 8,
   "id": "cb2887c1-1d7a-4649-ae0e-0fa45a391532",
   "metadata": {},
   "outputs": [
    {
     "data": {
      "text/plain": [
       "0.9999999999999999"
      ]
     },
     "execution_count": 8,
     "metadata": {},
     "output_type": "execute_result"
    }
   ],
   "source": [
    "sum(td['mass'].values())"
   ]
  },
  {
   "cell_type": "markdown",
   "id": "b2ccd9d7-f06b-47bf-b593-005f7687a0a3",
   "metadata": {},
   "source": [
    "### 5. Generate text based on this transition matrix"
   ]
  },
  {
   "cell_type": "code",
   "execution_count": 9,
   "id": "8b454804-32ba-4bfe-a1e5-c8912cee9ae7",
   "metadata": {},
   "outputs": [],
   "source": [
    "import random"
   ]
  },
  {
   "cell_type": "code",
   "execution_count": 10,
   "id": "063176fc-735d-4c72-b774-194c44b69858",
   "metadata": {},
   "outputs": [
    {
     "name": "stdout",
     "output_type": "stream",
     "text": [
      " mass a wild laughter which will cease to lie on\n",
      " the midst of the stars.\n",
      " i should probably gone.\n",
      " moreover the owl was out—how came into the step toward\n",
      " particular because he pretends to these respects as i took\n",
      " his voice in the worthies shakespeare or rather like lightning\n",
      " from the heat passes o’er in his bed when he\n",
      " would exude from our inventions are awake nights and well-like\n",
      " character of summer though it was brought in the whippoorwill\n",
      " on it still animate their giant enemies.\n",
      " rumor of the west before as the last either scarlatina\n",
      " or be in vain to society that astronomy has no\n",
      " question of a mile skating behind more awful to the\n",
      " town or known scriptures of this was not yet such\n",
      " forked flashes to pay four inches in a man can\n",
      " always on the original whose edges i consider that other\n",
      " fashions their dishes with!—to earn ten minutes of a dozen\n",
      " or twelve labors with which makes banks which the depths\n",
      " of money in june 1842 she to khoung-tseu caused me\n",
      " who was moist thick and read by the living which\n",
      " surrounds himself and has told but when he had a\n",
      " shelter and daily walks we have commerce to a dipper\n",
      " a quiet sandy bottom where else for their stumps in\n",
      " a wise to oversee all sides gone through the air\n",
      " with icicles it a new england and hourly expect the\n",
      " majority of holiness groping clangor of my appreciation of the\n",
      " truth we are all transient occasion for it offers advantages\n",
      " which i thought that i am no doubt if it\n",
      " seemed not know that most high into great a\n"
     ]
    }
   ],
   "source": [
    "text = [] \n",
    "last_w = 'mass'\n",
    "\n",
    "i = 0\n",
    "while i<= 100:\n",
    "    line = ''\n",
    "    for j in range(10):\n",
    "        if last_w == 'PERIOD':\n",
    "            last_w = random.choices(list(td[last_w].keys()), list(td[last_w].values()))[0]\n",
    "            line += '.'\n",
    "            i += 1\n",
    "            break\n",
    "        else:\n",
    "            temp = ' ' + last_w\n",
    "            line += temp\n",
    "            last_w = random.choices(list(td[last_w].keys()), list(td[last_w].values()))[0]     \n",
    "    text.append(line)         \n",
    "\n",
    "temp_text = []\n",
    "for i in range(len(text)):\n",
    "    if text[i] != '.':\n",
    "        temp_text.append(text[i])\n",
    "\n",
    "final_txt = ''\n",
    "for line in temp_text:\n",
    "    final_txt += line\n",
    "    final_txt += '\\n'\n",
    "print(final_txt[:1500])"
   ]
  },
  {
   "cell_type": "code",
   "execution_count": null,
   "id": "7cd468ae-d27e-444a-8e4c-f1b9030fb44e",
   "metadata": {},
   "outputs": [],
   "source": []
  }
 ],
 "metadata": {
  "kernelspec": {
   "display_name": "Python 3 (ipykernel)",
   "language": "python",
   "name": "python3"
  },
  "language_info": {
   "codemirror_mode": {
    "name": "ipython",
    "version": 3
   },
   "file_extension": ".py",
   "mimetype": "text/x-python",
   "name": "python",
   "nbconvert_exporter": "python",
   "pygments_lexer": "ipython3",
   "version": "3.9.13"
  }
 },
 "nbformat": 4,
 "nbformat_minor": 5
}
